{
 "metadata": {
  "language_info": {
   "codemirror_mode": {
    "name": "ipython",
    "version": 3
   },
   "file_extension": ".py",
   "mimetype": "text/x-python",
   "name": "python",
   "nbconvert_exporter": "python",
   "pygments_lexer": "ipython3",
   "version": "3.8.3-final"
  },
  "orig_nbformat": 2,
  "kernelspec": {
   "name": "python3",
   "display_name": "Python 3"
  }
 },
 "nbformat": 4,
 "nbformat_minor": 2,
 "cells": [
  {
   "source": [
    "# Import the relevant packages"
   ],
   "cell_type": "markdown",
   "metadata": {}
  },
  {
   "cell_type": "code",
   "execution_count": 1,
   "metadata": {},
   "outputs": [],
   "source": [
    "import numpy as np \n",
    "import tensorflow as tf\n",
    "import tensorflow_datasets as tfds "
   ]
  },
  {
   "source": [
    "# Data"
   ],
   "cell_type": "markdown",
   "metadata": {}
  },
  {
   "cell_type": "code",
   "execution_count": 2,
   "metadata": {},
   "outputs": [],
   "source": [
    "mnist_dataset, mnist_info = tfds.load(name = 'mnist', with_info = True, as_supervised = True)\n",
    "\n",
    "mnist_train, mnist_test = mnist_dataset['train'], mnist_dataset['test']\n",
    "\n",
    "num_validation_samples = tf.cast(0.1 * mnist_info.splits['train'].num_examples, tf.int64)\n",
    "\n",
    "num_test_samples = tf.cast(0.1 * mnist_info.splits['test'].num_examples, tf.int64)\n",
    "\n",
    "def scale(image, label):\n",
    "    image = tf.cast(image, tf.float32)\n",
    "    image /= 255.\n",
    "    return image, label\n",
    "\n",
    "scaled_train_and_validation_data = mnist_train.map(scale)\n",
    "test_data = mnist_test.map(scale)\n",
    "\n",
    "buffer_size = 10000\n",
    "shuffled_train_and_validation_data = scaled_train_and_validation_data.shuffle(buffer_size)\n",
    "\n",
    "validation_data = shuffled_train_and_validation_data.take(num_validation_samples)\n",
    "train_data = shuffled_train_and_validation_data.skip(num_validation_samples)\n",
    "\n",
    "batch_size = 100\n",
    "train_data = train_data.batch(batch_size)\n",
    "validation_data = validation_data.batch(num_validation_samples)\n",
    "test_data = test_data.batch(num_test_samples)\n",
    "\n",
    "validation_inputs, validation_targets = next(iter(validation_data))"
   ]
  },
  {
   "source": [
    "# Model"
   ],
   "cell_type": "markdown",
   "metadata": {}
  },
  {
   "cell_type": "code",
   "execution_count": 3,
   "metadata": {},
   "outputs": [],
   "source": [
    "input_size = 784\n",
    "output_size = 10\n",
    "hidden_layer_size = 200\n",
    "\n",
    "model = tf.keras.Sequential([\n",
    "                            tf.keras.layers.Flatten(input_shape = (28,28,1)),\n",
    "                            tf.keras.layers.Dense(hidden_layer_size, activation = 'relu'),\n",
    "                            tf.keras.layers.Dense(hidden_layer_size, activation = 'relu'),\n",
    "                            tf.keras.layers.Dense(hidden_layer_size, activation = 'tanh'),\n",
    "                            tf.keras.layers.Dense(output_size, activation = 'softmax')\n",
    "                            ])"
   ]
  },
  {
   "source": [
    "# Choose the optimizer and the loss function"
   ],
   "cell_type": "markdown",
   "metadata": {}
  },
  {
   "cell_type": "code",
   "execution_count": 4,
   "metadata": {},
   "outputs": [
    {
     "output_type": "execute_result",
     "data": {
      "text/plain": [
       "<tensorflow.python.keras.optimizer_v2.adam.Adam at 0x25cbe97ef40>"
      ]
     },
     "metadata": {},
     "execution_count": 4
    }
   ],
   "source": [
    "model.compile(optimizer = 'adam', loss = 'sparse_categorical_crossentropy', metrics = ['accuracy'])\n",
    "tf.keras.optimizers.Adam(learning_rate=0.0001)"
   ]
  },
  {
   "source": [
    "# Training"
   ],
   "cell_type": "markdown",
   "metadata": {}
  },
  {
   "cell_type": "code",
   "execution_count": 5,
   "metadata": {},
   "outputs": [
    {
     "output_type": "stream",
     "name": "stdout",
     "text": [
      "Epoch 1/10\n",
      "540/540 - 3s - loss: 0.2502 - accuracy: 0.9247 - val_loss: 0.1127 - val_accuracy: 0.9665\n",
      "Epoch 2/10\n",
      "540/540 - 3s - loss: 0.0955 - accuracy: 0.9699 - val_loss: 0.0792 - val_accuracy: 0.9758\n",
      "Epoch 3/10\n",
      "540/540 - 3s - loss: 0.0679 - accuracy: 0.9782 - val_loss: 0.0601 - val_accuracy: 0.9808\n",
      "Epoch 4/10\n",
      "540/540 - 3s - loss: 0.0473 - accuracy: 0.9847 - val_loss: 0.0444 - val_accuracy: 0.9867\n",
      "Epoch 5/10\n",
      "540/540 - 3s - loss: 0.0380 - accuracy: 0.9878 - val_loss: 0.0539 - val_accuracy: 0.9840\n",
      "Epoch 6/10\n",
      "540/540 - 3s - loss: 0.0319 - accuracy: 0.9893 - val_loss: 0.0439 - val_accuracy: 0.9857\n",
      "Epoch 7/10\n",
      "540/540 - 3s - loss: 0.0261 - accuracy: 0.9914 - val_loss: 0.0281 - val_accuracy: 0.9903\n",
      "Epoch 8/10\n",
      "540/540 - 3s - loss: 0.0232 - accuracy: 0.9924 - val_loss: 0.0352 - val_accuracy: 0.9898\n",
      "Epoch 9/10\n",
      "540/540 - 3s - loss: 0.0201 - accuracy: 0.9932 - val_loss: 0.0216 - val_accuracy: 0.9930\n",
      "Epoch 10/10\n",
      "540/540 - 3s - loss: 0.0212 - accuracy: 0.9931 - val_loss: 0.0142 - val_accuracy: 0.9953\n"
     ]
    },
    {
     "output_type": "execute_result",
     "data": {
      "text/plain": [
       "<tensorflow.python.keras.callbacks.History at 0x25cc5ff7f70>"
      ]
     },
     "metadata": {},
     "execution_count": 5
    }
   ],
   "source": [
    "num_epochs = 10\n",
    "\n",
    "model.fit(train_data, epochs = num_epochs, validation_data = (validation_inputs, validation_targets), verbose = 2)"
   ]
  },
  {
   "source": [
    "# Test the model"
   ],
   "cell_type": "markdown",
   "metadata": {}
  },
  {
   "cell_type": "code",
   "execution_count": 8,
   "metadata": {},
   "outputs": [
    {
     "output_type": "stream",
     "name": "stdout",
     "text": [
      "10/10 [==============================] - 1s 68ms/step - loss: 0.0650 - accuracy: 0.9831\n",
      "Test Loss: 0.06. Test Accuracy: 98.31%\n"
     ]
    }
   ],
   "source": [
    "test_loss, test_accuracy = model.evaluate(test_data)\n",
    "print(\"Test Loss: {0:.2f}. Test Accuracy: {1:.2f}%\".format(test_loss,test_accuracy*100.))"
   ]
  },
  {
   "cell_type": "code",
   "execution_count": null,
   "metadata": {},
   "outputs": [],
   "source": []
  }
 ]
}